{
 "cells": [
  {
   "cell_type": "code",
   "execution_count": 39,
   "metadata": {},
   "outputs": [],
   "source": [
    "import pandas as pd\n",
    "import numpy as np\n",
    "from datetime import datetime, timedelta\n",
    "import matplotlib.pyplot as plt\n",
    "from scipy.stats import pearsonr\n",
    "\n"
   ]
  },
  {
   "cell_type": "code",
   "execution_count": 16,
   "metadata": {},
   "outputs": [
    {
     "name": "stdout",
     "output_type": "stream",
     "text": [
      "        LYLTY_CARD_NBR        DATE  STORE_NBR  TXN_ID  PROD_NBR  \\\n",
      "0                 1000  2018-10-17          1       1         5   \n",
      "1                 1002  2018-09-16          1       2        58   \n",
      "2                 1003  2019-03-07          1       3        52   \n",
      "3                 1003  2019-03-08          1       4       106   \n",
      "4                 1004  2018-11-02          1       5        96   \n",
      "...                ...         ...        ...     ...       ...   \n",
      "264829         2370701  2018-12-08         88  240378        24   \n",
      "264830         2370751  2018-10-01         88  240394        60   \n",
      "264831         2370961  2018-10-24         88  240480        70   \n",
      "264832         2370961  2018-10-27         88  240481        65   \n",
      "264833         2373711  2018-12-14         88  241815        16   \n",
      "\n",
      "                                       PROD_NAME  PROD_QTY  TOT_SALES  \\\n",
      "0         Natural Chip        Compny SeaSalt175g         2        6.0   \n",
      "1          Red Rock Deli Chikn&Garlic Aioli 150g         1        2.7   \n",
      "2          Grain Waves Sour    Cream&Chives 210G         1        3.6   \n",
      "3         Natural ChipCo      Hony Soy Chckn175g         1        3.0   \n",
      "4                 WW Original Stacked Chips 160g         1        1.9   \n",
      "...                                          ...       ...        ...   \n",
      "264829     Grain Waves         Sweet Chilli 210g         2        7.2   \n",
      "264830      Kettle Tortilla ChpsFeta&Garlic 150g         2        9.2   \n",
      "264831   Tyrrells Crisps     Lightly Salted 165g         2        8.4   \n",
      "264832  Old El Paso Salsa   Dip Chnky Tom Ht300g         2       10.2   \n",
      "264833  Smiths Crinkle Chips Salt & Vinegar 330g         2       11.4   \n",
      "\n",
      "        PACK_SIZE       BRAND              LIFESTAGE PREMIUM_CUSTOMER  \n",
      "0             175     NATURAL  YOUNG SINGLES/COUPLES          Premium  \n",
      "1             150         RRD  YOUNG SINGLES/COUPLES       Mainstream  \n",
      "2             210     GRNWVES         YOUNG FAMILIES           Budget  \n",
      "3             175     NATURAL         YOUNG FAMILIES           Budget  \n",
      "4             160  WOOLWORTHS  OLDER SINGLES/COUPLES       Mainstream  \n",
      "...           ...         ...                    ...              ...  \n",
      "264829        210     GRNWVES         YOUNG FAMILIES       Mainstream  \n",
      "264830        150      KETTLE         YOUNG FAMILIES          Premium  \n",
      "264831        165    TYRRELLS         OLDER FAMILIES           Budget  \n",
      "264832        300         OLD         OLDER FAMILIES           Budget  \n",
      "264833        330      SMITHS  YOUNG SINGLES/COUPLES       Mainstream  \n",
      "\n",
      "[264834 rows x 12 columns]\n"
     ]
    }
   ],
   "source": [
    "df = pd.read_csv(\"QVI_data.csv\")\n",
    "\n",
    "print(df)"
   ]
  },
  {
   "cell_type": "code",
   "execution_count": 33,
   "metadata": {},
   "outputs": [
    {
     "data": {
      "application/vnd.microsoft.datawrangler.viewer.v0+json": {
       "columns": [
        {
         "name": "('STORE_NBR', 'MONTH')",
         "rawType": "object",
         "type": "unknown"
        },
        {
         "name": "('TOT_SALES', 'sum')",
         "rawType": "float64",
         "type": "float"
        },
        {
         "name": "('LYLTY_CARD_NBR', 'nunique')",
         "rawType": "int64",
         "type": "integer"
        },
        {
         "name": "('TXN_ID', 'count')",
         "rawType": "int64",
         "type": "integer"
        },
        {
         "name": "('PROD_QTY', 'mean')",
         "rawType": "float64",
         "type": "float"
        },
        {
         "name": "('PROD_QTY', 'sum')",
         "rawType": "int64",
         "type": "integer"
        },
        {
         "name": "('PRICE_PER_UNIT', '')",
         "rawType": "float64",
         "type": "float"
        }
       ],
       "conversionMethod": "pd.DataFrame",
       "ref": "1e3fed07-1190-4977-a420-a76e28e7f6d0",
       "rows": [
        [
         "(np.int64(1), Period('2018-07', 'M'))",
         "206.9",
         "49",
         "52",
         "1.1923076923076923",
         "62",
         "3.3370967741935487"
        ],
        [
         "(np.int64(1), Period('2018-08', 'M'))",
         "176.1",
         "42",
         "43",
         "1.255813953488372",
         "54",
         "3.261111111111111"
        ],
        [
         "(np.int64(1), Period('2018-09', 'M'))",
         "278.8",
         "59",
         "62",
         "1.2096774193548387",
         "75",
         "3.7173333333333334"
        ],
        [
         "(np.int64(1), Period('2018-10', 'M'))",
         "188.1",
         "44",
         "45",
         "1.288888888888889",
         "58",
         "3.243103448275862"
        ],
        [
         "(np.int64(1), Period('2018-11', 'M'))",
         "192.6",
         "46",
         "47",
         "1.2127659574468086",
         "57",
         "3.3789473684210525"
        ],
        [
         "(np.int64(1), Period('2018-12', 'M'))",
         "189.6",
         "42",
         "47",
         "1.2127659574468086",
         "57",
         "3.326315789473684"
        ],
        [
         "(np.int64(1), Period('2019-01', 'M'))",
         "154.8",
         "35",
         "36",
         "1.1666666666666667",
         "42",
         "3.685714285714286"
        ],
        [
         "(np.int64(2), Period('2018-07', 'M'))",
         "150.8",
         "39",
         "41",
         "1.1219512195121952",
         "46",
         "3.2782608695652176"
        ],
        [
         "(np.int64(2), Period('2018-08', 'M'))",
         "193.8",
         "39",
         "43",
         "1.2790697674418605",
         "55",
         "3.523636363636364"
        ],
        [
         "(np.int64(2), Period('2018-09', 'M'))",
         "154.4",
         "36",
         "37",
         "1.1081081081081081",
         "41",
         "3.7658536585365856"
        ],
        [
         "(np.int64(2), Period('2018-10', 'M'))",
         "167.8",
         "41",
         "43",
         "1.0465116279069768",
         "45",
         "3.728888888888889"
        ],
        [
         "(np.int64(2), Period('2018-11', 'M'))",
         "162.9",
         "39",
         "40",
         "1.1",
         "44",
         "3.7022727272727276"
        ],
        [
         "(np.int64(2), Period('2018-12', 'M'))",
         "136.0",
         "35",
         "38",
         "1.0526315789473684",
         "40",
         "3.4"
        ],
        [
         "(np.int64(2), Period('2019-01', 'M'))",
         "162.8",
         "43",
         "45",
         "1.0888888888888888",
         "49",
         "3.322448979591837"
        ],
        [
         "(np.int64(3), Period('2018-07', 'M'))",
         "1205.7",
         "112",
         "138",
         "1.963768115942029",
         "271",
         "4.449077490774908"
        ],
        [
         "(np.int64(3), Period('2018-08', 'M'))",
         "1079.75",
         "112",
         "134",
         "1.8880597014925373",
         "253",
         "4.267786561264822"
        ],
        [
         "(np.int64(3), Period('2018-09', 'M'))",
         "1021.5",
         "102",
         "119",
         "1.949579831932773",
         "232",
         "4.4030172413793105"
        ],
        [
         "(np.int64(3), Period('2018-10', 'M'))",
         "1037.9",
         "104",
         "119",
         "1.9747899159663866",
         "235",
         "4.416595744680851"
        ],
        [
         "(np.int64(3), Period('2018-11', 'M'))",
         "1008.0",
         "101",
         "118",
         "1.923728813559322",
         "227",
         "4.440528634361233"
        ],
        [
         "(np.int64(3), Period('2018-12', 'M'))",
         "1121.6",
         "111",
         "129",
         "1.9767441860465116",
         "255",
         "4.39843137254902"
        ],
        [
         "(np.int64(3), Period('2019-01', 'M'))",
         "1051.7",
         "102",
         "121",
         "1.9504132231404958",
         "236",
         "4.45635593220339"
        ],
        [
         "(np.int64(4), Period('2018-07', 'M'))",
         "1399.9",
         "128",
         "160",
         "1.9875",
         "318",
         "4.402201257861636"
        ],
        [
         "(np.int64(4), Period('2018-08', 'M'))",
         "1259.5",
         "123",
         "151",
         "1.9205298013245033",
         "290",
         "4.343103448275862"
        ],
        [
         "(np.int64(4), Period('2018-09', 'M'))",
         "1198.6",
         "119",
         "138",
         "2.0",
         "276",
         "4.342753623188406"
        ],
        [
         "(np.int64(4), Period('2018-10', 'M'))",
         "1346.4",
         "123",
         "155",
         "2.0",
         "310",
         "4.343225806451613"
        ],
        [
         "(np.int64(4), Period('2018-11', 'M'))",
         "1212.0",
         "118",
         "139",
         "2.0",
         "278",
         "4.359712230215828"
        ],
        [
         "(np.int64(4), Period('2018-12', 'M'))",
         "1185.6",
         "104",
         "133",
         "2.0",
         "266",
         "4.457142857142856"
        ],
        [
         "(np.int64(4), Period('2019-01', 'M'))",
         "1525.0",
         "134",
         "168",
         "1.994047619047619",
         "335",
         "4.552238805970149"
        ],
        [
         "(np.int64(5), Period('2018-07', 'M'))",
         "812.0",
         "93",
         "120",
         "2.0",
         "240",
         "3.3833333333333333"
        ],
        [
         "(np.int64(5), Period('2018-08', 'M'))",
         "745.1",
         "97",
         "112",
         "1.9017857142857142",
         "213",
         "3.4981220657276997"
        ],
        [
         "(np.int64(5), Period('2018-09', 'M'))",
         "896.0",
         "101",
         "125",
         "2.0",
         "250",
         "3.584"
        ],
        [
         "(np.int64(5), Period('2018-10', 'M'))",
         "798.0",
         "88",
         "107",
         "2.0",
         "214",
         "3.7289719626168223"
        ],
        [
         "(np.int64(5), Period('2018-11', 'M'))",
         "771.4",
         "85",
         "111",
         "2.0",
         "222",
         "3.4747747747747746"
        ],
        [
         "(np.int64(5), Period('2018-12', 'M'))",
         "879.2",
         "95",
         "125",
         "2.0",
         "250",
         "3.5168000000000004"
        ],
        [
         "(np.int64(5), Period('2019-01', 'M'))",
         "838.0",
         "92",
         "118",
         "2.0",
         "236",
         "3.5508474576271185"
        ],
        [
         "(np.int64(6), Period('2018-07', 'M'))",
         "260.0",
         "48",
         "51",
         "1.4313725490196079",
         "73",
         "3.5616438356164384"
        ],
        [
         "(np.int64(6), Period('2018-08', 'M'))",
         "203.2",
         "44",
         "47",
         "1.425531914893617",
         "67",
         "3.032835820895522"
        ],
        [
         "(np.int64(6), Period('2018-09', 'M'))",
         "207.7",
         "38",
         "38",
         "1.5",
         "57",
         "3.643859649122807"
        ],
        [
         "(np.int64(6), Period('2018-10', 'M'))",
         "292.4",
         "52",
         "54",
         "1.5185185185185186",
         "82",
         "3.565853658536585"
        ],
        [
         "(np.int64(6), Period('2018-11', 'M'))",
         "255.3",
         "50",
         "51",
         "1.4509803921568627",
         "74",
         "3.45"
        ],
        [
         "(np.int64(6), Period('2018-12', 'M'))",
         "209.1",
         "38",
         "41",
         "1.3902439024390243",
         "57",
         "3.668421052631579"
        ],
        [
         "(np.int64(6), Period('2019-01', 'M'))",
         "191.1",
         "35",
         "37",
         "1.3783783783783783",
         "51",
         "3.7470588235294118"
        ],
        [
         "(np.int64(7), Period('2018-07', 'M'))",
         "1024.7",
         "100",
         "120",
         "1.9",
         "228",
         "4.4942982456140355"
        ],
        [
         "(np.int64(7), Period('2018-08', 'M'))",
         "1119.9",
         "109",
         "131",
         "1.9236641221374047",
         "252",
         "4.44404761904762"
        ],
        [
         "(np.int64(7), Period('2018-09', 'M'))",
         "1147.3",
         "111",
         "128",
         "1.96875",
         "252",
         "4.552777777777778"
        ],
        [
         "(np.int64(7), Period('2018-10', 'M'))",
         "1063.9",
         "108",
         "124",
         "1.8870967741935485",
         "234",
         "4.546581196581197"
        ],
        [
         "(np.int64(7), Period('2018-11', 'M'))",
         "1076.5",
         "111",
         "129",
         "1.9224806201550388",
         "248",
         "4.340725806451613"
        ],
        [
         "(np.int64(7), Period('2018-12', 'M'))",
         "906.1",
         "95",
         "114",
         "1.868421052631579",
         "213",
         "4.253990610328638"
        ],
        [
         "(np.int64(7), Period('2019-01', 'M'))",
         "975.1",
         "102",
         "115",
         "1.9217391304347826",
         "221",
         "4.412217194570136"
        ],
        [
         "(np.int64(8), Period('2018-07', 'M'))",
         "381.6",
         "40",
         "43",
         "1.9767441860465116",
         "85",
         "4.489411764705882"
        ]
       ],
       "shape": {
        "columns": 6,
        "rows": 1820
       }
      },
      "text/html": [
       "<div>\n",
       "<style scoped>\n",
       "    .dataframe tbody tr th:only-of-type {\n",
       "        vertical-align: middle;\n",
       "    }\n",
       "\n",
       "    .dataframe tbody tr th {\n",
       "        vertical-align: top;\n",
       "    }\n",
       "\n",
       "    .dataframe thead tr th {\n",
       "        text-align: left;\n",
       "    }\n",
       "\n",
       "    .dataframe thead tr:last-of-type th {\n",
       "        text-align: right;\n",
       "    }\n",
       "</style>\n",
       "<table border=\"1\" class=\"dataframe\">\n",
       "  <thead>\n",
       "    <tr>\n",
       "      <th></th>\n",
       "      <th></th>\n",
       "      <th>TOT_SALES</th>\n",
       "      <th>LYLTY_CARD_NBR</th>\n",
       "      <th>TXN_ID</th>\n",
       "      <th colspan=\"2\" halign=\"left\">PROD_QTY</th>\n",
       "      <th>PRICE_PER_UNIT</th>\n",
       "    </tr>\n",
       "    <tr>\n",
       "      <th></th>\n",
       "      <th></th>\n",
       "      <th>sum</th>\n",
       "      <th>nunique</th>\n",
       "      <th>count</th>\n",
       "      <th>mean</th>\n",
       "      <th>sum</th>\n",
       "      <th></th>\n",
       "    </tr>\n",
       "    <tr>\n",
       "      <th>STORE_NBR</th>\n",
       "      <th>MONTH</th>\n",
       "      <th></th>\n",
       "      <th></th>\n",
       "      <th></th>\n",
       "      <th></th>\n",
       "      <th></th>\n",
       "      <th></th>\n",
       "    </tr>\n",
       "  </thead>\n",
       "  <tbody>\n",
       "    <tr>\n",
       "      <th rowspan=\"5\" valign=\"top\">1</th>\n",
       "      <th>2018-07</th>\n",
       "      <td>206.9</td>\n",
       "      <td>49</td>\n",
       "      <td>52</td>\n",
       "      <td>1.192308</td>\n",
       "      <td>62</td>\n",
       "      <td>3.337097</td>\n",
       "    </tr>\n",
       "    <tr>\n",
       "      <th>2018-08</th>\n",
       "      <td>176.1</td>\n",
       "      <td>42</td>\n",
       "      <td>43</td>\n",
       "      <td>1.255814</td>\n",
       "      <td>54</td>\n",
       "      <td>3.261111</td>\n",
       "    </tr>\n",
       "    <tr>\n",
       "      <th>2018-09</th>\n",
       "      <td>278.8</td>\n",
       "      <td>59</td>\n",
       "      <td>62</td>\n",
       "      <td>1.209677</td>\n",
       "      <td>75</td>\n",
       "      <td>3.717333</td>\n",
       "    </tr>\n",
       "    <tr>\n",
       "      <th>2018-10</th>\n",
       "      <td>188.1</td>\n",
       "      <td>44</td>\n",
       "      <td>45</td>\n",
       "      <td>1.288889</td>\n",
       "      <td>58</td>\n",
       "      <td>3.243103</td>\n",
       "    </tr>\n",
       "    <tr>\n",
       "      <th>2018-11</th>\n",
       "      <td>192.6</td>\n",
       "      <td>46</td>\n",
       "      <td>47</td>\n",
       "      <td>1.212766</td>\n",
       "      <td>57</td>\n",
       "      <td>3.378947</td>\n",
       "    </tr>\n",
       "    <tr>\n",
       "      <th>...</th>\n",
       "      <th>...</th>\n",
       "      <td>...</td>\n",
       "      <td>...</td>\n",
       "      <td>...</td>\n",
       "      <td>...</td>\n",
       "      <td>...</td>\n",
       "      <td>...</td>\n",
       "    </tr>\n",
       "    <tr>\n",
       "      <th rowspan=\"5\" valign=\"top\">272</th>\n",
       "      <th>2018-09</th>\n",
       "      <td>304.7</td>\n",
       "      <td>32</td>\n",
       "      <td>36</td>\n",
       "      <td>1.972222</td>\n",
       "      <td>71</td>\n",
       "      <td>4.291549</td>\n",
       "    </tr>\n",
       "    <tr>\n",
       "      <th>2018-10</th>\n",
       "      <td>430.6</td>\n",
       "      <td>44</td>\n",
       "      <td>51</td>\n",
       "      <td>1.941176</td>\n",
       "      <td>99</td>\n",
       "      <td>4.349495</td>\n",
       "    </tr>\n",
       "    <tr>\n",
       "      <th>2018-11</th>\n",
       "      <td>376.2</td>\n",
       "      <td>41</td>\n",
       "      <td>45</td>\n",
       "      <td>1.933333</td>\n",
       "      <td>87</td>\n",
       "      <td>4.324138</td>\n",
       "    </tr>\n",
       "    <tr>\n",
       "      <th>2018-12</th>\n",
       "      <td>403.9</td>\n",
       "      <td>47</td>\n",
       "      <td>47</td>\n",
       "      <td>1.893617</td>\n",
       "      <td>89</td>\n",
       "      <td>4.538202</td>\n",
       "    </tr>\n",
       "    <tr>\n",
       "      <th>2019-01</th>\n",
       "      <td>423.0</td>\n",
       "      <td>46</td>\n",
       "      <td>50</td>\n",
       "      <td>1.920000</td>\n",
       "      <td>96</td>\n",
       "      <td>4.406250</td>\n",
       "    </tr>\n",
       "  </tbody>\n",
       "</table>\n",
       "<p>1820 rows × 6 columns</p>\n",
       "</div>"
      ],
      "text/plain": [
       "                  TOT_SALES LYLTY_CARD_NBR TXN_ID  PROD_QTY     PRICE_PER_UNIT\n",
       "                        sum        nunique  count      mean sum               \n",
       "STORE_NBR MONTH                                                               \n",
       "1         2018-07     206.9             49     52  1.192308  62       3.337097\n",
       "          2018-08     176.1             42     43  1.255814  54       3.261111\n",
       "          2018-09     278.8             59     62  1.209677  75       3.717333\n",
       "          2018-10     188.1             44     45  1.288889  58       3.243103\n",
       "          2018-11     192.6             46     47  1.212766  57       3.378947\n",
       "...                     ...            ...    ...       ...  ..            ...\n",
       "272       2018-09     304.7             32     36  1.972222  71       4.291549\n",
       "          2018-10     430.6             44     51  1.941176  99       4.349495\n",
       "          2018-11     376.2             41     45  1.933333  87       4.324138\n",
       "          2018-12     403.9             47     47  1.893617  89       4.538202\n",
       "          2019-01     423.0             46     50  1.920000  96       4.406250\n",
       "\n",
       "[1820 rows x 6 columns]"
      ]
     },
     "execution_count": 33,
     "metadata": {},
     "output_type": "execute_result"
    }
   ],
   "source": [
    "df['MONTH'] =  pd.to_datetime(df['DATE'],format='%Y-%m-%d').dt.to_period('M')\n",
    "df['MONTH']\n",
    "aggregated = df.groupby(['STORE_NBR', 'MONTH']).agg({\n",
    "    'TOT_SALES': 'sum',\n",
    "    'LYLTY_CARD_NBR': pd.Series.nunique,\n",
    "    'TXN_ID': 'count',\n",
    "    'PROD_QTY': ['mean', 'sum']\n",
    "})\n",
    "\n",
    "aggregated['PRICE_PER_UNIT'] = aggregated[('TOT_SALES', 'sum')] / aggregated[('PROD_QTY', 'sum')]\n",
    "\n",
    "store_counts = df.groupby('STORE_NBR')['MONTH'].nunique()\n",
    "stores_with_12_months = store_counts[store_counts == 12].index\n",
    "aggregated = aggregated[aggregated.index.get_level_values('STORE_NBR').isin(stores_with_12_months)]\n",
    "\n",
    "preTrialMeasures = aggregated[aggregated.index.get_level_values('MONTH') < '2019-02']\n",
    "preTrialMeasures"
   ]
  },
  {
   "cell_type": "code",
   "execution_count": null,
   "metadata": {},
   "outputs": [
    {
     "name": "stdout",
     "output_type": "stream",
     "text": [
      "STORE_NBR  MONTH  \n",
      "77         2018-07    296.8\n",
      "           2018-08    255.5\n",
      "           2018-09    225.2\n",
      "           2018-10    204.5\n",
      "           2018-11    245.3\n",
      "           2018-12    267.3\n",
      "           2019-01    204.4\n",
      "Name: (TOT_SALES, sum), dtype: float64\n",
      "STORE_NBR  MONTH  \n",
      "77         2018-07    51\n",
      "           2018-08    47\n",
      "           2018-09    42\n",
      "           2018-10    37\n",
      "           2018-11    41\n",
      "           2018-12    46\n",
      "           2019-01    35\n",
      "Name: (LYLTY_CARD_NBR, nunique), dtype: int64\n"
     ]
    },
    {
     "name": "stderr",
     "output_type": "stream",
     "text": [
      "/var/folders/rq/9wbc2l4d50z5b952bfndzkd40000gn/T/ipykernel_64496/422113640.py:9: FutureWarning: The behavior of DataFrame concatenation with empty or all-NA entries is deprecated. In a future version, this will no longer exclude empty or all-NA columns when determining the result dtypes. To retain the old behavior, exclude the relevant entries before the concat operation.\n",
      "  correlation_table = pd.concat([correlation_table, pd.DataFrame([[store_comparison, i, corr]], columns=[\"Store1\", \"Store2\", \"corr_measure\"])], ignore_index=True)\n",
      "/var/folders/rq/9wbc2l4d50z5b952bfndzkd40000gn/T/ipykernel_64496/422113640.py:9: FutureWarning: The behavior of DataFrame concatenation with empty or all-NA entries is deprecated. In a future version, this will no longer exclude empty or all-NA columns when determining the result dtypes. To retain the old behavior, exclude the relevant entries before the concat operation.\n",
      "  correlation_table = pd.concat([correlation_table, pd.DataFrame([[store_comparison, i, corr]], columns=[\"Store1\", \"Store2\", \"corr_measure\"])], ignore_index=True)\n"
     ]
    },
    {
     "name": "stdout",
     "output_type": "stream",
     "text": [
      "    Store1 Store2  corr_measure\n",
      "72      77     77      1.000000\n",
      "67      77     71      0.914106\n",
      "221     77    233      0.903774\n",
      "111     77    119      0.867664\n",
      "15      77     17      0.842668\n",
      "..     ...    ...           ...\n",
      "150     77    158     -0.709319\n",
      "22      77     24     -0.718112\n",
      "232     77    244     -0.774513\n",
      "71      77     75     -0.806751\n",
      "178     77    186     -0.820214\n",
      "\n",
      "[260 rows x 3 columns]\n",
      "    Store1 Store2  corr_measure\n",
      "72      77     77      1.000000\n",
      "221     77    233      0.990358\n",
      "111     77    119      0.983267\n",
      "241     77    254      0.916208\n",
      "106     77    113      0.901348\n",
      "..     ...    ...           ...\n",
      "95      77    102     -0.652527\n",
      "139     77    147     -0.656933\n",
      "161     77    169     -0.666391\n",
      "50      77     54     -0.760605\n",
      "8       77      9     -0.785699\n",
      "\n",
      "[260 rows x 3 columns]\n"
     ]
    }
   ],
   "source": [
    "def calculate_correlation(df, metric, store_comparison):\n",
    "    store_numbers = aggregated.index.get_level_values('STORE_NBR').unique()\n",
    "    correlation_table = pd.DataFrame(columns=[\"Store1\", \"Store2\", \"corr_measure\"])\n",
    "    sample_c = df[df.index.get_level_values('STORE_NBR') == store_comparison][metric]\n",
    "    for i in store_numbers:\n",
    "        sample_i = df[df.index.get_level_values('STORE_NBR') == i][metric]\n",
    "        corr = pearsonr(sample_c, sample_i)[0]\n",
    "        correlation_table = pd.concat([correlation_table, pd.DataFrame([[store_comparison, i, corr]], columns=[\"Store1\", \"Store2\", \"corr_measure\"])], ignore_index=True)\n",
    "    correlation_table.sort_values(by=['corr_measure'], ascending=False)\n",
    "    return correlation_table\n",
    "\n",
    "corr_sales = calculate_correlation(preTrialMeasures, ('TOT_SALES', 'sum'), 77)\n",
    "corr_num_custs = calculate_correlation(preTrialMeasures, ('LYLTY_CARD_NBR', 'nunique'), 77)\n",
    "\n",
    "print(corr_sales)\n",
    "print(corr_num_custs)\n"
   ]
  },
  {
   "cell_type": "code",
   "execution_count": 79,
   "metadata": {},
   "outputs": [
    {
     "name": "stderr",
     "output_type": "stream",
     "text": [
      "/var/folders/rq/9wbc2l4d50z5b952bfndzkd40000gn/T/ipykernel_64496/2030198824.py:8: FutureWarning: The behavior of DataFrame concatenation with empty or all-NA entries is deprecated. In a future version, this will no longer exclude empty or all-NA columns when determining the result dtypes. To retain the old behavior, exclude the relevant entries before the concat operation.\n",
      "  dist_table = pd.concat([dist_table, pd.DataFrame([[store_comparison, i, dist]], columns=[\"Store1\", \"Store2\", \"dist_measure\"])], ignore_index=True)\n",
      "/var/folders/rq/9wbc2l4d50z5b952bfndzkd40000gn/T/ipykernel_64496/2030198824.py:8: FutureWarning: The behavior of DataFrame concatenation with empty or all-NA entries is deprecated. In a future version, this will no longer exclude empty or all-NA columns when determining the result dtypes. To retain the old behavior, exclude the relevant entries before the concat operation.\n",
      "  dist_table = pd.concat([dist_table, pd.DataFrame([[store_comparison, i, dist]], columns=[\"Store1\", \"Store2\", \"dist_measure\"])], ignore_index=True)\n"
     ]
    },
    {
     "name": "stdout",
     "output_type": "stream",
     "text": [
      "    Store1 Store2  dist_measure  mag_measure\n",
      "72      77     77      0.000000     1.000000\n",
      "221     77    233     57.809342     0.982207\n",
      "49      77     53     98.777275     0.969597\n",
      "46      77     50    100.672340     0.969014\n",
      "42      77     46    101.582085     0.968734\n",
      "..     ...    ...           ...          ...\n",
      "157     77    165   2857.488660     0.120480\n",
      "54      77     58   2869.987250     0.116633\n",
      "225     77    237   2903.293984     0.106381\n",
      "82      77     88   2908.804057     0.104685\n",
      "214     77    226   3248.918500     0.000000\n",
      "\n",
      "[260 rows x 4 columns]\n",
      "    Store1 Store2  dist_measure  mag_measure\n",
      "72      77     77      0.000000     1.000000\n",
      "221     77    233      2.645751     0.989325\n",
      "38      77     41      7.681146     0.969008\n",
      "104     77    111     10.535654     0.957490\n",
      "15      77     17     10.723805     0.956731\n",
      "..     ...    ...           ...          ...\n",
      "157     77    165    214.436471     0.134781\n",
      "54      77     58    219.697519     0.113553\n",
      "82      77     88    219.783985     0.113205\n",
      "225     77    237    221.842286     0.104900\n",
      "214     77    226    247.840675     0.000000\n",
      "\n",
      "[260 rows x 4 columns]\n"
     ]
    }
   ],
   "source": [
    "def calculate_magnitude(df, metric, store_comparison):\n",
    "    store_numbers = aggregated.index.get_level_values('STORE_NBR').unique()\n",
    "    dist_table = pd.DataFrame(columns=[\"Store1\", \"Store2\", \"dist_measure\"])\n",
    "    sample_c = df[df.index.get_level_values('STORE_NBR') == store_comparison][metric].reset_index(drop=True)\n",
    "    for i in store_numbers:\n",
    "        sample_i = df[df.index.get_level_values('STORE_NBR') == i][metric].reset_index(drop=True)\n",
    "        dist = np.linalg.norm(sample_i - sample_c)\n",
    "        dist_table = pd.concat([dist_table, pd.DataFrame([[store_comparison, i, dist]], columns=[\"Store1\", \"Store2\", \"dist_measure\"])], ignore_index=True)\n",
    "\n",
    "    min_dist = dist_table['dist_measure'].min()\n",
    "    max_dist = dist_table['dist_measure'].max()\n",
    "    dist_table['mag_measure'] = 1 - (dist_table['dist_measure'] - min_dist) / (max_dist - min_dist)\n",
    "    dist_table = dist_table.sort_values(by=['mag_measure'], ascending=False)\n",
    "    return dist_table\n",
    "\n",
    "\n",
    "dist_sales = calculate_magnitude(preTrialMeasures, ('TOT_SALES', 'sum'), 77)\n",
    "dist_num_custs = calculate_magnitude(preTrialMeasures, ('LYLTY_CARD_NBR', 'nunique'), 77)\n",
    "\n",
    "print(dist_sales)\n",
    "print(dist_num_custs)\n"
   ]
  },
  {
   "cell_type": "code",
   "execution_count": 89,
   "metadata": {},
   "outputs": [
    {
     "name": "stdout",
     "output_type": "stream",
     "text": [
      "    Store1 Store2  corr_measure_x  dist_measure_x  mag_measure_x  sales_score  \\\n",
      "0       77     77        1.000000        0.000000       1.000000     1.000000   \n",
      "1       77    233        0.903774       57.809342       0.982207     0.942990   \n",
      "2       77     41        0.783232      130.753432       0.959755     0.871493   \n",
      "4       77     17        0.842668      419.490489       0.870883     0.856776   \n",
      "11      77    254        0.577108      276.909263       0.914769     0.745939   \n",
      "..     ...    ...             ...             ...            ...          ...   \n",
      "258     77     55       -0.666782     1828.539841       0.437185    -0.114798   \n",
      "253     77    138       -0.585174     1776.259609       0.453277    -0.065949   \n",
      "255     77    247       -0.631050     1637.333466       0.496037    -0.067506   \n",
      "251     77    102       -0.550834     1750.358832       0.461249    -0.044792   \n",
      "259     77     75       -0.806751     2379.058639       0.267738    -0.269507   \n",
      "\n",
      "     corr_measure_y  dist_measure_y  mag_measure_y  num_custs_score  \\\n",
      "0          1.000000        0.000000       1.000000         1.000000   \n",
      "1          0.990358        2.645751       0.989325         0.989841   \n",
      "2          0.844219        7.681146       0.969008         0.906614   \n",
      "4          0.747308       10.723805       0.956731         0.852019   \n",
      "11         0.916208       17.521415       0.929304         0.922756   \n",
      "..              ...             ...            ...              ...   \n",
      "258       -0.395473      162.120326       0.345869        -0.024802   \n",
      "253       -0.534877      162.132662       0.345819        -0.094529   \n",
      "255       -0.621034      149.432259       0.397063        -0.111985   \n",
      "251       -0.652527      156.875747       0.367030        -0.142749   \n",
      "259       -0.590735      173.539621       0.299794        -0.145471   \n",
      "\n",
      "     final_control_score  \n",
      "0               1.000000  \n",
      "1               0.966416  \n",
      "2               0.889053  \n",
      "4               0.854398  \n",
      "11              0.834347  \n",
      "..                   ...  \n",
      "258            -0.069800  \n",
      "253            -0.080239  \n",
      "255            -0.089746  \n",
      "251            -0.093771  \n",
      "259            -0.207489  \n",
      "\n",
      "[260 rows x 11 columns]\n"
     ]
    }
   ],
   "source": [
    "score_sales = pd.merge(corr_sales, dist_sales, on=['Store1', 'Store2'])\n",
    "score_sales['sales_score'] = 0.5 * score_sales['corr_measure'] + 0.5 * score_sales['mag_measure']\n",
    "score_sales = score_sales.sort_values(by=['sales_score'], ascending=False)\n",
    "score_sales\n",
    "\n",
    "score_num_custs = pd.merge(corr_num_custs, dist_num_custs, on=['Store1', 'Store2'])\n",
    "score_num_custs['num_custs_score'] = 0.5 * score_num_custs['corr_measure'] + 0.5 * score_num_custs['mag_measure']\n",
    "score_num_custs = score_num_custs.sort_values(by=['num_custs_score'], ascending=False)\n",
    "score_num_custs\n",
    "\n",
    "scores_control = score_num_custs = pd.merge(score_sales, score_num_custs, on=['Store1', 'Store2'])\n",
    "scores_control['final_control_score'] = 0.5 * score_num_custs['num_custs_score'] + 0.5 * score_num_custs['sales_score']\n",
    "scores_control = score_num_custs.sort_values(by=['final_control_score'], ascending=False)\n",
    "\n",
    "print(scores_control)\n",
    "\n"
   ]
  },
  {
   "cell_type": "code",
   "execution_count": null,
   "metadata": {},
   "outputs": [
    {
     "data": {
      "text/plain": [
       "<Axes: xlabel='MONTH'>"
      ]
     },
     "execution_count": 99,
     "metadata": {},
     "output_type": "execute_result"
    },
    {
     "data": {
      "image/png": "[encoded data removed]",
      "text/plain": [
       "<Figure size 640x480 with 1 Axes>"
      ]
     },
     "metadata": {},
     "output_type": "display_data"
    }
   ],
   "source": [
    "control_store = 77\n",
    "trial_store = 233\n",
    "control_sales = preTrialMeasures[preTrialMeasures.index.get_level_values('STORE_NBR') == control_store][('TOT_SALES', 'sum')].droplevel('STORE_NBR')\n",
    "trial_sales = preTrialMeasures[preTrialMeasures.index.get_level_values('STORE_NBR') == trial_store][('TOT_SALES', 'sum')].droplevel('STORE_NBR')\n",
    "control_sales.plot()\n",
    "trial_sales.plot()"
   ]
  },
  {
   "cell_type": "code",
   "execution_count": 111,
   "metadata": {},
   "outputs": [
    {
     "name": "stdout",
     "output_type": "stream",
     "text": [
      "0.9966555183946488\n"
     ]
    },
    {
     "data": {
      "image/png": "[encoded data removed]",
      "text/plain": [
       "<Figure size 640x480 with 1 Axes>"
      ]
     },
     "metadata": {},
     "output_type": "display_data"
    }
   ],
   "source": [
    "control_sales = preTrialMeasures[preTrialMeasures.index.get_level_values('STORE_NBR') == control_store][('LYLTY_CARD_NBR', 'nunique')].droplevel('STORE_NBR')\n",
    "trial_sales = preTrialMeasures[preTrialMeasures.index.get_level_values('STORE_NBR') == trial_store][('LYLTY_CARD_NBR', 'nunique')].droplevel('STORE_NBR')\n",
    "control_sales.plot()\n",
    "trial_sales.plot()\n",
    "scale_factor = trial_sales.sum() / control_sales.sum()\n",
    "print(scale_factor)"
   ]
  },
  {
   "cell_type": "code",
   "execution_count": 112,
   "metadata": {},
   "outputs": [
    {
     "name": "stdout",
     "output_type": "stream",
     "text": [
      "MONTH\n",
      "2019-02   -0.041782\n",
      "2019-03    0.282700\n",
      "2019-04    0.396083\n",
      "Freq: M, Name: (TOT_SALES, sum), dtype: float64\n",
      "0.024677045779897523\n",
      "MONTH\n",
      "2018-07    1.000000\n",
      "2018-08    1.021277\n",
      "2018-09    1.000000\n",
      "2018-10    0.945946\n",
      "2018-11    0.975610\n",
      "2018-12    1.021739\n",
      "2019-01    1.000000\n",
      "Freq: M, Name: (LYLTY_CARD_NBR, nunique), dtype: float64\n",
      "[0.0671288  0.99999566 0.99999956]\n"
     ]
    }
   ],
   "source": [
    "trialMeasures = aggregated[(aggregated.index.get_level_values('MONTH') >= '2019-02') & (aggregated.index.get_level_values('MONTH') <= '2019-04')]\n",
    "scaled_control_sales_trial = trialMeasures[trialMeasures.index.get_level_values('STORE_NBR') == control_store][('TOT_SALES', 'sum')].droplevel('STORE_NBR') * scale_factor\n",
    "trial_sales_trial = trialMeasures[trialMeasures.index.get_level_values('STORE_NBR') == trial_store][('TOT_SALES', 'sum')].droplevel('STORE_NBR')\n",
    "percentage_diff = 1 - trial_sales_trial / scaled_control_sales_trial\n",
    "print(percentage_diff)\n",
    "\n",
    "stdev = np.std(trial_sales / control_sales)\n",
    "print(stdev)\n",
    "print(trial_sales / control_sales)\n",
    "\n",
    "t_values = percentage_diff / stdev\n",
    "\n",
    "from scipy.stats import t\n",
    "\n",
    "p_values = t.cdf(t_values, 7)\n",
    "print(p_values)"
   ]
  },
  {
   "cell_type": "code",
   "execution_count": null,
   "metadata": {},
   "outputs": [],
   "source": []
  }
 ],
 "metadata": {
  "kernelspec": {
   "display_name": ".venv",
   "language": "python",
   "name": "python3"
  },
  "language_info": {
   "codemirror_mode": {
    "name": "ipython",
    "version": 3
   },
   "file_extension": ".py",
   "mimetype": "text/x-python",
   "name": "python",
   "nbconvert_exporter": "python",
   "pygments_lexer": "ipython3",
   "version": "3.13.1"
  }
 },
 "nbformat": 4,
 "nbformat_minor": 2
}
